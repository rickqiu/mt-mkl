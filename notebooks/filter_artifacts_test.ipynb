{
 "cells": [
  {
   "cell_type": "markdown",
   "metadata": {},
   "source": [
    "## Show filter_artifacts functions\n",
    "\n",
    "Here we visualize the results of **filter_artifacts_test**"
   ]
  },
  {
   "cell_type": "code",
   "execution_count": 47,
   "metadata": {
    "collapsed": true
   },
   "outputs": [],
   "source": [
    "import os\n",
    "import numpy as np\n",
    "import matplotlib.pyplot as plt\n",
    "\n",
    "from signalprocessing.filter_artifacts import PreProcessing, remove_edges\n",
    "\n",
    "%matplotlib inline"
   ]
  },
  {
   "cell_type": "code",
   "execution_count": 6,
   "metadata": {
    "collapsed": true
   },
   "outputs": [],
   "source": [
    "preprc = PreProcessing(fs=1.)"
   ]
  },
  {
   "cell_type": "markdown",
   "metadata": {},
   "source": [
    "#### check_no_artifacts\n",
    "\n",
    "The acquisition are sometimes affected by artifacts - in this case the channel does not acquire any signal. The tolerance default value corresponds to 10e5 - 100 seconds at 1kHz of acquisition"
   ]
  },
  {
   "cell_type": "code",
   "execution_count": 34,
   "metadata": {},
   "outputs": [
    {
     "data": {
      "text/plain": [
       "array([ True,  True,  True], dtype=bool)"
      ]
     },
     "execution_count": 34,
     "metadata": {},
     "output_type": "execute_result"
    }
   ],
   "source": [
    "x = np.arange(20)\n",
    "xxx = np.vstack((x,x,x))\n",
    "\n",
    "preprc.check_no_artifacts(xxx)  # using the defaul value"
   ]
  },
  {
   "cell_type": "code",
   "execution_count": 40,
   "metadata": {},
   "outputs": [
    {
     "data": {
      "text/plain": [
       "False"
      ]
     },
     "execution_count": 40,
     "metadata": {},
     "output_type": "execute_result"
    },
    {
     "data": {
      "image/png": "[encoded data removed]",
      "text/plain": [
       "<matplotlib.figure.Figure at 0x7fc7e35cea10>"
      ]
     },
     "metadata": {},
     "output_type": "display_data"
    }
   ],
   "source": [
    "sampling_freq = 1000.\n",
    "preprc = PreProcessing(fs=sampling_freq)\n",
    "\n",
    "t = np.linspace(0, 10, 10000)\n",
    "xt = np.ones_like(t)\n",
    "xt[t.astype(\"int\")%2==0] = 3 * t[t.astype(\"int\")%2==0]\n",
    "\n",
    "plt.plot(t, xt)\n",
    "\n",
    "preprc.check_no_artifacts(xt, tolerance=1000)  \n",
    "# by changing the tolerance we remove the recordings which have artifacts"
   ]
  },
  {
   "cell_type": "markdown",
   "metadata": {},
   "source": [
    "#### remove_powerline\n",
    "\n",
    "Here we remove the powerline effects. The powerline value is set to 50 Hz and all the harmonics"
   ]
  },
  {
   "cell_type": "code",
   "execution_count": 53,
   "metadata": {},
   "outputs": [
    {
     "name": "stdout",
     "output_type": "stream",
     "text": [
      "[  50.  100.  150.  200.  250.  300.  350.  400.  450.]\n"
     ]
    },
    {
     "data": {
      "text/plain": [
       "(-1, 1)"
      ]
     },
     "execution_count": 53,
     "metadata": {},
     "output_type": "execute_result"
    },
    {
     "data": {
      "image/png": "[encoded data removed]",
      "text/plain": [
       "<matplotlib.figure.Figure at 0x7fc7e35b11d0>"
      ]
     },
     "metadata": {},
     "output_type": "display_data"
    }
   ],
   "source": [
    "t = np.linspace(0, 10, 10000)\n",
    "x = np.sin(2 * np.pi * t * 50)\n",
    "x += np.cos(2 * np.pi * t * 100)\n",
    "\n",
    "y = preprc.remove_powerline(x, bandwidth=3., powerline=50.)\n",
    "\n",
    "plt.plot(t, x, label=\"original\")\n",
    "plt.plot(t, y, label=\"filtered\")\n",
    "plt.ylim([-1, 1])"
   ]
  },
  {
   "cell_type": "markdown",
   "metadata": {},
   "source": [
    "Note that there are crazy edge effects! We remove them using the following function"
   ]
  },
  {
   "cell_type": "code",
   "execution_count": 59,
   "metadata": {},
   "outputs": [
    {
     "name": "stdout",
     "output_type": "stream",
     "text": [
      "(8000,)\n"
     ]
    },
    {
     "data": {
      "image/png": "[encoded data removed]",
      "text/plain": [
       "<matplotlib.figure.Figure at 0x7fc7baa2e3d0>"
      ]
     },
     "metadata": {},
     "output_type": "display_data"
    }
   ],
   "source": [
    "edge = 1000\n",
    "yy = remove_edges(y, npoints=edge)\n",
    "print(yy.shape)\n",
    "\n",
    "plt.plot(t[edge:len(t)-edge], yy)\n",
    "plt.ylim([-1,1]);"
   ]
  }
 ],
 "metadata": {
  "kernelspec": {
   "display_name": "Python 2",
   "language": "python",
   "name": "python2"
  },
  "language_info": {
   "codemirror_mode": {
    "name": "ipython",
    "version": 2
   },
   "file_extension": ".py",
   "mimetype": "text/x-python",
   "name": "python",
   "nbconvert_exporter": "python",
   "pygments_lexer": "ipython2",
   "version": "2.7.13"
  }
 },
 "nbformat": 4,
 "nbformat_minor": 2
}
