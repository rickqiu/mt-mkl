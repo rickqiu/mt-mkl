{
 "cells": [
  {
   "cell_type": "code",
   "execution_count": 1,
   "metadata": {
    "collapsed": true
   },
   "outputs": [],
   "source": [
    "import numpy as np\n",
    "import matplotlib.pyplot as plt\n",
    "from signalprocessing.kernel_function import correlation, phaselockingvalue, fourier_corr\n",
    "from numpy.linalg import norm\n",
    "\n",
    "%matplotlib inline"
   ]
  },
  {
   "cell_type": "code",
   "execution_count": 2,
   "metadata": {},
   "outputs": [
    {
     "data": {
      "image/png": "[encoded data removed]",
      "text/plain": [
       "<matplotlib.figure.Figure at 0x7f01cd564690>"
      ]
     },
     "metadata": {},
     "output_type": "display_data"
    }
   ],
   "source": [
    "f0 = 0.3\n",
    "phi = 1\n",
    "t = np.linspace(0, 10, 10000)\n",
    "\n",
    "x = np.sin(2 * np.pi * f0 * t)\n",
    "y = np.sin(2 * np.pi * f0 * t + phi)\n",
    "\n",
    "plt.plot(t, x);\n",
    "plt.plot(t, y);"
   ]
  },
  {
   "cell_type": "markdown",
   "metadata": {},
   "source": [
    "Here we show some similarity measures\n",
    "\n",
    "**Correlation**\n",
    "\n",
    "$$\\text{covariance}(x,y) = \\frac{C_{x,y}}{\\sqrt{C_{x,x} C_{y,y}}}$$"
   ]
  },
  {
   "cell_type": "code",
   "execution_count": 3,
   "metadata": {},
   "outputs": [
    {
     "data": {
      "text/plain": [
       "(array([[ 1.        ,  0.54026405],\n",
       "        [ 0.54026405,  1.        ]]), array([[ 1.        ,  0.54026405],\n",
       "        [ 0.54026405,  1.        ]]), array([[ 1.,  1.],\n",
       "        [ 1.,  1.]]))"
      ]
     },
     "execution_count": 3,
     "metadata": {},
     "output_type": "execute_result"
    }
   ],
   "source": [
    "data = np.vstack((x,y))\n",
    "\n",
    "correlation(data), correlation(x,y), correlation(x,x)  # correlation"
   ]
  },
  {
   "cell_type": "markdown",
   "metadata": {},
   "source": [
    "** Cross correlation **\n",
    "\n",
    "We define the amplitude of the Fourier transform of $x, y$ as\n",
    "\\begin{align}\n",
    "A_x = |\\mathcal{F}(x)| \\\\\n",
    "A_y = |\\mathcal{F}(y)|\n",
    "\\end{align}\n",
    "Then, we can easily express the average cross correlation, defined as follows\n",
    "$$\\text{avg cross correlation}(x,y) = \\frac{A_x \\cdot A_y}{{\\| A_x\\|_2 \\| A_y\\|_2 }} $$"
   ]
  },
  {
   "cell_type": "code",
   "execution_count": 4,
   "metadata": {},
   "outputs": [],
   "source": [
    "from numpy.fft import fft"
   ]
  },
  {
   "cell_type": "code",
   "execution_count": 5,
   "metadata": {
    "collapsed": true
   },
   "outputs": [],
   "source": [
    "ax = np.abs(fft(x))\n",
    "ay = np.abs(fft(y))"
   ]
  },
  {
   "cell_type": "code",
   "execution_count": 6,
   "metadata": {},
   "outputs": [
    {
     "name": "stdout",
     "output_type": "stream",
     "text": [
      "0.999999972579\n"
     ]
    }
   ],
   "source": [
    "avg_xy = ax.dot(ay) / (norm(ax)*norm(ay))\n",
    "\n",
    "print(avg_xy)"
   ]
  },
  {
   "cell_type": "markdown",
   "metadata": {},
   "source": [
    "The spectra of the two signals are equivalent, they have only a different in phase. The **fourier_corr** allows us to split the contributes"
   ]
  },
  {
   "cell_type": "code",
   "execution_count": 7,
   "metadata": {},
   "outputs": [
    {
     "data": {
      "text/plain": [
       "array([[ 1.        ,  0.99999997],\n",
       "       [ 0.99999997,  1.        ]])"
      ]
     },
     "execution_count": 7,
     "metadata": {},
     "output_type": "execute_result"
    }
   ],
   "source": [
    "fourier_corr(data)"
   ]
  },
  {
   "cell_type": "code",
   "execution_count": 8,
   "metadata": {},
   "outputs": [
    {
     "data": {
      "text/plain": [
       "array([[ 1.    ,  0.3634],\n",
       "       [ 0.3634,  1.    ]])"
      ]
     },
     "execution_count": 8,
     "metadata": {},
     "output_type": "execute_result"
    }
   ],
   "source": [
    "phaselockingvalue(data)"
   ]
  },
  {
   "cell_type": "code",
   "execution_count": 9,
   "metadata": {},
   "outputs": [
    {
     "data": {
      "text/plain": [
       "array([[ 1.,  1.],\n",
       "       [ 1.,  1.]])"
      ]
     },
     "execution_count": 9,
     "metadata": {},
     "output_type": "execute_result"
    }
   ],
   "source": [
    "phaselockingvalue(np.vstack((x,x)))"
   ]
  },
  {
   "cell_type": "code",
   "execution_count": 10,
   "metadata": {},
   "outputs": [
    {
     "data": {
      "text/plain": [
       "1.0"
      ]
     },
     "execution_count": 10,
     "metadata": {},
     "output_type": "execute_result"
    }
   ],
   "source": [
    "phaselockingvalue(x,x)"
   ]
  },
  {
   "cell_type": "code",
   "execution_count": null,
   "metadata": {
    "collapsed": true
   },
   "outputs": [],
   "source": []
  }
 ],
 "metadata": {
  "kernelspec": {
   "display_name": "Python 2",
   "language": "python",
   "name": "python2"
  },
  "language_info": {
   "codemirror_mode": {
    "name": "ipython",
    "version": 2
   },
   "file_extension": ".py",
   "mimetype": "text/x-python",
   "name": "python",
   "nbconvert_exporter": "python",
   "pygments_lexer": "ipython2",
   "version": "2.7.13"
  }
 },
 "nbformat": 4,
 "nbformat_minor": 2
}
