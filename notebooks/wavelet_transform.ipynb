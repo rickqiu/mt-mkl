{
 "cells": [
  {
   "cell_type": "code",
   "execution_count": 1,
   "metadata": {
    "collapsed": true
   },
   "outputs": [],
   "source": [
    "import numpy as np\n",
    "import matplotlib.pyplot as plt\n",
    "from signalprocessing.wavelet_transform import CWTTransform\n",
    "\n",
    "%matplotlib inline"
   ]
  },
  {
   "cell_type": "code",
   "execution_count": 2,
   "metadata": {},
   "outputs": [],
   "source": [
    "t = np.linspace(0, 600, 600000)\n",
    "f0 = 50\n",
    "x = np.sin(2 * np.pi * t * f0)\n",
    "\n",
    "# plt.plot(t, x);"
   ]
  },
  {
   "cell_type": "code",
   "execution_count": 3,
   "metadata": {},
   "outputs": [
    {
     "data": {
      "text/plain": [
       "95"
      ]
     },
     "execution_count": 3,
     "metadata": {},
     "output_type": "execute_result"
    }
   ],
   "source": [
    "waveletTransf = CWTTransform(fs=1e3)\n",
    "waveletTransf.nscales"
   ]
  },
  {
   "cell_type": "code",
   "execution_count": 4,
   "metadata": {
    "scrolled": true
   },
   "outputs": [
    {
     "name": "stdout",
     "output_type": "stream",
     "text": [
      "34\n"
     ]
    }
   ],
   "source": [
    "idx_50hz = np.argmin(np.abs(np.array(waveletTransf.freqs)-50))\n",
    "print(idx_50hz)"
   ]
  },
  {
   "cell_type": "code",
   "execution_count": 5,
   "metadata": {
    "scrolled": true
   },
   "outputs": [
    {
     "name": "stdout",
     "output_type": "stream",
     "text": [
      "476.19047619\n",
      "(600000,)\n",
      "[-0.01463808+0.01814395j  0.01524966-0.00481261j -0.00332873+0.00239496j\n",
      " ...,  0.00216314-0.00869454j -0.00603250+0.02095735j\n",
      "  0.01713849-0.01592953j]\n"
     ]
    },
    {
     "data": {
      "image/png": "[encoded data removed]",
      "text/plain": [
       "<matplotlib.figure.Figure at 0x7fa372863d50>"
      ]
     },
     "metadata": {},
     "output_type": "display_data"
    }
   ],
   "source": [
    "for idx in range(waveletTransf.nscales):\n",
    "    print(waveletTransf.freqs[idx])\n",
    "    yy = waveletTransf.cwt(x, scale_idx=idx)\n",
    "    print(yy.shape)\n",
    "    print(yy)\n",
    "    plt.plot(t, np.abs(yy))\n",
    "    break"
   ]
  },
  {
   "cell_type": "code",
   "execution_count": 6,
   "metadata": {},
   "outputs": [
    {
     "name": "stdout",
     "output_type": "stream",
     "text": [
      "('central frequency', 51.618726863229625)\n",
      "('filter width', 72.999903602411749)\n"
     ]
    },
    {
     "data": {
      "image/png": "[encoded data removed]",
      "text/plain": [
       "<matplotlib.figure.Figure at 0x7fa371e1c290>"
      ]
     },
     "metadata": {},
     "output_type": "display_data"
    }
   ],
   "source": [
    "print(\"central frequency\", waveletTransf.freqs[idx_50hz])\n",
    "print(\"filter width\", waveletTransf.filter_width[idx_50hz])\n",
    "yy = waveletTransf.cwt(x, scale_idx=idx_50hz)\n",
    "plt.plot(t, np.abs(yy));"
   ]
  },
  {
   "cell_type": "code",
   "execution_count": 8,
   "metadata": {},
   "outputs": [
    {
     "name": "stdout",
     "output_type": "stream",
     "text": [
      "('central frequency', 18.142709704928055)\n",
      "('filter width', 25.65766612290723)\n"
     ]
    },
    {
     "data": {
      "image/png": "[encoded data removed]",
      "text/plain": [
       "<matplotlib.figure.Figure at 0x7fa371be8050>"
      ]
     },
     "metadata": {},
     "output_type": "display_data"
    }
   ],
   "source": [
    "print(\"central frequency\", waveletTransf.freqs[50])\n",
    "print(\"filter width\", waveletTransf.filter_width[50])\n",
    "yy = waveletTransf.cwt(x, scale_idx=50)\n",
    "plt.plot(t, np.abs(yy));"
   ]
  },
  {
   "cell_type": "code",
   "execution_count": null,
   "metadata": {},
   "outputs": [],
   "source": [
    "waveletTransf.freqs[idx_50hz:]"
   ]
  },
  {
   "cell_type": "code",
   "execution_count": null,
   "metadata": {
    "collapsed": true
   },
   "outputs": [],
   "source": []
  }
 ],
 "metadata": {
  "kernelspec": {
   "display_name": "Python 2",
   "language": "python",
   "name": "python2"
  },
  "language_info": {
   "codemirror_mode": {
    "name": "ipython",
    "version": 2
   },
   "file_extension": ".py",
   "mimetype": "text/x-python",
   "name": "python",
   "nbconvert_exporter": "python",
   "pygments_lexer": "ipython2",
   "version": "2.7.13"
  }
 },
 "nbformat": 4,
 "nbformat_minor": 2
}
